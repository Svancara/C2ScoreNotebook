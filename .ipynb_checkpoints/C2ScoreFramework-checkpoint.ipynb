{
  "cells": [
    {
      "metadata": {
        "trusted": true
      },
      "cell_type": "markdown",
      "source": "\n# C2Score development environment\n\nThe idea is:\n- Create a table like Excel with all C2Score components (\"subscores\").\n- Use any statistics and libraries available in R for subscores and C2Score.\n- Calculate C2Score from it using a function like this:\n\nC2ScoreFunction = function(ageScore,calmarScore,sharpeScore) {\n \n  score = 0.5 * ageScore + 0.25 * calmarScore + 0.25 * sharpeScore\n\n  return(score)  \n}\n\n            \nAnybody can modify R code or this function and play with it.\n\n-----------------\n\n## This draft of the developing environment was not accepted\n\nThe idea here was to give access to our data to people outside Collective2. To people using R for data science. \nAllow people to develop a completely new methodology. \nNew statistics, new features discovery, machine learning...\n\nThe MK's response is:\n\n> Matthew\nIn other words, I think logical operators allow a more supple discontinuous scoring system \nThis is what I do currently in Perl.\nJust an idea.\nNot sure how practical it is in your implementation.\n\n> The current c2score is - whatever you want to say about it - the result of about 15 years of trial and error. It’s written in a software language over which I have a very fine degree of control. If what we’re doing here in this channel is just throwing it out, and trying to recreate it from scratch using a language or methodology with less-fine-grained control, then that’s not interesting to me.\nI thought the purpose of this effort was to let “other people” (i.e. anyone on this channel?) propose alternate scoring methodologies. A sort of “let a thousand flowers bloom” approach. But if you’re just asking *me* to recreate my own work in this new platform, what’s the point?\n\n> Tyler\nI agree having some more complex logic than just a linear combination is important\n\nI am not going to argue. \nThe idea here was to give people outside Collective2 acces to data and let people explore data.\nI thougth that Matthew will accept this approach and provide (clean) data to public usage.\nApparently, I was wrong.\nSo this whole circus does not make any sense now, because it is not in Perl.\nOnly statistics developed in Perl on the Collective side are available and allowed in the \"new score formula\".\n\nJust allow me one comment about \"logical operators\" and \"complex logic\": We are in the programming language code. Any complex logic can be developed here of course."
    },
    {
      "metadata": {},
      "cell_type": "markdown",
      "source": "If anybody will use this, here is what I have found recently: There are strategies having negative account equities in the accountequity table:\n\nThe following query:\n\n```select distinct(systemid) from accountequity where value < 0;```\n\nreturns 1401 systems.\n\nI guess it does not make any sense to work with them. They should be filtered out."
    },
    {
      "metadata": {
        "trusted": true
      },
      "cell_type": "code",
      "source": "# Initialization\nlibrary(DBI)\nlibrary(RMySQL)\nlibrary(data.table)\nlibrary(xts)\nlibrary(PerformanceAnalytics)\n\n\nDEFAULT_DT_FORMAT = \"%Y-%m-%d %H:%M:%S\"\nEST_TIME_ZONE = \"America/New_York\"\n",
      "execution_count": null,
      "outputs": []
    },
    {
      "metadata": {
        "trusted": true
      },
      "cell_type": "code",
      "source": "# =======================================\n# C2 score formula\n# =======================================\nC2ScoreFunction = function(ageScore,calmarScore,sharpeScore) {\n  \n  score = 0.5 * ageScore + 0.25 * calmarScore + 0.25 * sharpeScore\n\n  return(score)  \n}\n",
      "execution_count": null,
      "outputs": []
    },
    {
      "metadata": {
        "trusted": true
      },
      "cell_type": "code",
      "source": "# =======================================\n# Open a database. Returns a connection.\n# =======================================\nopenDb = function() {\n  dbConnect(MySQL(),user = \"c2public\",password = \"c2public\",dbname = \"explore\",host = \"seetuservicestack.collective2.com\")\n}\n",
      "execution_count": null,
      "outputs": []
    },
    {
      "metadata": {
        "trusted": true
      },
      "cell_type": "code",
      "source": "# =======================================\n# Get all strategies  table\n# =======================================\nC2Systems = function() {\n  con <- openDb()\n  \n  sql <- sprintf(\"select systemId, systemName from systems\")\n  \n  suppressWarnings(data <- dbGetQuery(con, sql))\n  dbDisconnect(con)\n  \n  dt = as.data.table(data)\n  \n  setkey(dt, SystemId)\n  \n  #  write.csv(data,\"/!/systems.csv\")\n  return (dt)\n}\n\n# Try it\nC2Systems()",
      "execution_count": null,
      "outputs": []
    },
    {
      "metadata": {
        "trusted": true
      },
      "cell_type": "code",
      "source": "# =======================================\n# Global C2 Age statistics\n# Input - all systems ages\n# Output - five numbers stats, histogram\n# =======================================\nC2AgeStats = function() {\n  con <- openDb()\n  \n  sql <- \"select started from systems\"\n  \n  suppressWarnings(data <- dbGetQuery(con, sql))\n  dbDisconnect(con)\n  \n  started =  as.Date(data$Started, format = DEFAULT_DT_FORMAT , tz = EST_TIME_ZONE)\n  today = Sys.Date()\n  \n  days = as.numeric(today - started)\n\n  histBreaks = seq(min(days),max(days),by=((max(days) - min(days))/10))\n\n    #write.csv(days,\"/!/test.csv\")\n  return (list(\n    fivenum = fivenum(days),\n    histogram = hist(days, breaks = histBreaks, plot = TRUE, col=\"cornflowerblue\")\n  ))\n}\n\n# Try it\nC2AgeStats()",
      "execution_count": null,
      "outputs": []
    },
    {
      "metadata": {
        "trusted": true
      },
      "cell_type": "code",
      "source": "# =======================================\n# An Age component of the overall C2Score\n# =======================================\n# Age score for each system\n# Input: C2 stats from C2AgeStats\n# Dataframe:   SystemId Started Age Score\n# =======================================\nsystemAgeStats = function(c2stat) {\n  con <- openDb()\n  \n  sql <- \"select systemid, started from systems\"\n  \n  suppressWarnings(data <- dbGetQuery(con, sql))\n  dbDisconnect(con)\n  \n  today = Sys.Date()\n  data$Age = as.numeric(today - as.Date(data$Started, format = DEFAULT_DT_FORMAT , tz = EST_TIME_ZONE))\n  data$Score = findInterval(data$Age, c2stat$histogram$breaks) - 1\n  \n  dt = as.data.table(data)\n  setkey(dt, SystemId)\n  return (dt)\n}\n\n# Try it:\nsystemAgeStats(C2AgeStats())",
      "execution_count": null,
      "outputs": []
    },
    {
      "metadata": {
        "trusted": true
      },
      "cell_type": "code",
      "source": "# =======================================\n# Global C2 Calmar statistics\n# Input - all systems ages\n# Output - five numbers stats, histogram\n# =======================================\nC2CalmarStats = function() {\n  MAX_CALMAR = 10 # Exclude crazy values.\n  \n  con <- openDb()\n  sql <- \"select StatValueVal from stats where statname='jCalmar'\"\n  suppressWarnings(data <- dbGetQuery(con, sql))\n  \n  # Exclude insane values\n  data = data[data <= MAX_CALMAR]\n\n  histBreaks = seq(min(data),max(data),by=((max(data) - min(data))/10))\n\n  return (list(\n    fivenum = fivenum(data),\n    histogram = hist(data, breaks = histBreaks, main=\"C2 Calmar Stats\", plot = TRUE, col=\"cornflowerblue\")\n  ))\n}\n\n# Try it\nC2CalmarStats()",
      "execution_count": null,
      "outputs": []
    },
    {
      "metadata": {
        "trusted": true
      },
      "cell_type": "code",
      "source": "\n# =======================================\n# Calmar component of the overall C2Score\n# =======================================\n# Calmar score  for each system\n# Input - all systems ages\n# Output - five numbers stats, histogram\n# =======================================\nsystemCalmarStats = function(c2stat) {\n  con <- openDb()\n  \n  sql <- \"select systemId, StatValueVal from stats where statname='jCalmar'\"\n  \n  suppressWarnings(data <- dbGetQuery(con, sql))\n  dbDisconnect(con)\n  \n  data$Score = findInterval(data$StatValueVal, c2stat$histogram$breaks) - 1\n  \n  dt = as.data.table(data)\n  dt[, `:=`(CalmarMessage, \"\")] # Add a column\n  setkey(dt, SystemId)\n  \n  dt[Score >= 10, `:=`(CalmarMessage, sprintf(\"Too high Calmar value %s\", StatValueVal))]\n  return (dt)\n}\n\n# Try it\nprint(systemCalmarStats(C2CalmarStats()))",
      "execution_count": null,
      "outputs": []
    },
    {
      "metadata": {
        "trusted": true
      },
      "cell_type": "code",
      "source": "# =======================================\n# Helper: C2 score visually as Html. \n# =======================================\nC2ScoreAsHtml = function(scoreDT, decreasing = TRUE) {\n  \n  rowf = function(systemId, systemName, score, message) {\n    sprintf(\n      \"<tr><td>FAKE SCORE!</td><td>%s</td><td>%s</td><td><a href='https://collective2.com/details-list/%s' target='_blank'>%s</a></td><td>%s</td><td>DEMO FAKE SCORE!</td></tr>\",\n      score,systemId,systemId,systemName,message)\n  }\n  \n  # Sort by C2Score desc\n  setorder(scoreDT, -C2Score)\n  scoreDT[, URL := rowf(SystemId, SystemName, C2Score, CalmarMessage )]\n  html1 = \"<!DOCTYPE html>\n          <html>\n          <head>\n          <style>\n          table {\n            font-family: arial, sans-serif;\n            border-collapse: collapse;\n            width: 100%;\n          }\n          \n          td, th {\n            border: 1px solid #dddddd;\n            text-align: left;\n            padding: 8px;\n          }\n          \n          tr:nth-child(even) {\n            background-color: #dddddd;\n          }\n          </style>\n          </head>\n          <body>\n            <table>\n              <tr>\n                <th>FAKE Score!</th>\n                <th>Score</th>\n                <th>System</th>\n                <th>Name (link)</th>\n                <th>Errors</th>\n                <th>FAKE Score!</th>\n              </tr>\"\n  \n  html2 = paste0(scoreDT[,]$URL,collapse = \"\")  \n  html3 = \"</table></body></html>\"\n  \n  paste(html1, html2, html3,collapse = \"\")\n}\n",
      "execution_count": null,
      "outputs": []
    },
    {
      "metadata": {
        "trusted": true
      },
      "cell_type": "code",
      "source": "# =======================================\n#  Helper:  Plot a strategy chart\n# =======================================\nshowChart = function(strategyId){\n  con <- openDb()\n  sql <- sprintf(\"select dateTime, value from accountequity where systemid = %s order by 1\",strategyId)\n  suppressWarnings( dbData <- dbGetQuery(con, sql) )\n  dbDisconnect(con)\n  \n  # Transform to xts  \n  colnames(dbData) = c(\"DateTime\",\"Close\")\n  posixlt = as.POSIXlt(dbData$DateTime, format = DEFAULT_DT_FORMAT,tz= EST_TIME_ZONE)\n  accountEquity = xts(dbData$Close, posixlt )\n  \n  # Account equity to daily data \n  accountDaily = to.daily(accountEquity,drop.time=TRUE) # ,OHLC=FALSE,name=c(\"Close\")  this deos not work\n  # Exclude weekends\n  accountDaily = accountDaily[.indexwday(accountDaily) %in% 1:5]\n  # Continue just with  closing values\n  accountDaily = accountDaily$accountEquity.Close\n  colnames(accountDaily) = c(\"Close\")\n  \n  # Get equity returns\n  returns = CalculateReturns(accountDaily) #, method = \"log\"\n  returns = na.omit(returns)\n  returns = returns[is.finite(returns)]\n  \n  # Make a chart\n  charts.PerformanceSummary(returns,main=sprintf(\"Strategy %d\",strategyId),colorset=c(\"darkgreen\"))\n}\n",
      "execution_count": null,
      "outputs": []
    },
    {
      "metadata": {
        "trusted": true
      },
      "cell_type": "code",
      "source": "# ======================================================\n#       RUN IT NOW!\n# ======================================================\n# Calculate C2 score components\n# All components must be data.tables indexed by SystemId\n# ======================================================\nsystems = C2Systems()\nagesScore = systemAgeStats(C2AgeStats())\ncalmarScore = systemCalmarStats(C2CalmarStats())\n# calculate sharpe, drawdowns, .... here\n\n# =========================================\n# Prepare everything for C2Score formula\n# =========================================\n\n# Create a new table from systems\nscoreDT = as.data.table(systems)\nsetkey(scoreDT, SystemId)\n\n# Add subcscores as columns\nscoreDT[agesScore, AgeScore := agesScore$Score]\nscoreDT[calmarScore, CalmarScore := calmarScore$Score]\nscoreDT[calmarScore, CalmarMessage := calmarScore$CalmarMessage]\nscoreDT[, SharpeScore := 1] # Fill sharpe the same way like calmarScore.\n\n# ===============================================================\n# Get just systems where sane Calmar exists\nscoreDT = scoreDT[calmarScore,]\n\n# ===============================================================\n# Final calculation - apply C2ScoreFunction on data in the table\nscoreDT[, C2Score := C2ScoreFunction(AgeScore,CalmarScore,SharpeScore)]\n\n# ===============================================================\n# Handle exceptions as you want: Set C2Score\nscoreDT[SystemId == 11954158, C2Score := 1000]\n# Remove some system entirely:\nscoreDT = scoreDT[SystemId != 9945735,]\n\n# ===============================================================\n# Sort by C2Score desc\nsetorder(scoreDT, -C2Score)\n\n# ===============================================================\n# Results: CSV and HTML files. \n# You can downlaod them from Jupyter\n# ===============================================================\nwrite.csv(scoreDT,\"scoreDT.csv\")\nhtml = C2ScoreAsHtml(scoreDT)\ncat(html, file=\"c2score.html\")\n",
      "execution_count": null,
      "outputs": []
    },
    {
      "metadata": {
        "trusted": true
      },
      "cell_type": "code",
      "source": "# Interactive show chart for 3 first systems\nshowChart(scoreDT[1,]$SystemId)\nshowChart(scoreDT[2,]$SystemId)\nshowChart(scoreDT[3,]$SystemId)\n\n# Carma stocks\nshowChart(81128026)\n",
      "execution_count": null,
      "outputs": []
    },
    {
      "metadata": {
        "trusted": true
      },
      "cell_type": "code",
      "source": "",
      "execution_count": null,
      "outputs": []
    }
  ],
  "metadata": {
    "kernelspec": {
      "name": "r",
      "display_name": "R",
      "language": "R"
    },
    "language_info": {
      "mimetype": "text/x-r-source",
      "name": "R",
      "pygments_lexer": "r",
      "version": "3.4.1",
      "file_extension": ".r",
      "codemirror_mode": "r"
    },
    "celltoolbar": "Raw Cell Format"
  },
  "nbformat": 4,
  "nbformat_minor": 1
}